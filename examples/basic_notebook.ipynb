{
 "cells": [
  {
   "cell_type": "markdown",
   "metadata": {},
   "source": [
    "# SysML v2 State Machine Simulation\n",
    "\n",
    "This example shows how to use Python SXCML library (https://github.com/Open-MBEE/scxml4py)\n",
    "to simulate a state machine defined in a SysML file.\n",
    "\n",
    "If VSCode asks you to choose the Python interpreter and you are using a virtual\n",
    "environment, choose the one which includes `.venv` in its path.\n"
   ]
  },
  {
   "cell_type": "markdown",
   "metadata": {},
   "source": [
    "Import all dependencies needed for the example.\n"
   ]
  },
  {
   "cell_type": "code",
   "execution_count": null,
   "metadata": {},
   "outputs": [],
   "source": [
    "from sysmlv2x_lib.sysmlv2x import SysMLv2ToSCXML\n",
    "import syside_license\n",
    "syside_license.check('key')  # Validates your license\"\n",
    "\n",
    "import syside\n",
    "from sysmlv2x_lib.syside_helpers import (\n",
    "    get_node,\n",
    "    set_feature_value,\n",
    "    pprint_sysml,\n",
    ")"
   ]
  },
  {
   "cell_type": "markdown",
   "metadata": {},
   "source": [
    "## Convert SysMLv2 to SCXML with Syside"
   ]
  },
  {
   "cell_type": "code",
   "execution_count": null,
   "metadata": {},
   "outputs": [],
   "source": [
    "(model, diagnostics) = syside.load_model([\"simpleSM.sysml\"])\n",
    "assert not diagnostics.contains_errors(warnings_as_errors=True)\n",
    "state_machine_node = get_node(model, [\"Demo\", \"A_behavior\"]).cast(syside.StateDefinition)\n",
    "converter = SysMLv2ToSCXML(model, state_machine_node)\n",
    "simpleSM_string = converter.to_xml_string()\n",
    "print(simpleSM_string)"
   ]
  },
  {
   "cell_type": "markdown",
   "metadata": {},
   "source": [
    "# Set up SCXML simulation environment"
   ]
  },
  {
   "cell_type": "code",
   "execution_count": null,
   "metadata": {},
   "outputs": [],
   "source": [
    "import logging\n",
    "import time\n",
    "\n",
    "import scxml4py.helper\n",
    "from scxmlApp.application import Application\n",
    "from scxml4py.action import Action\n",
    "from scxml4py.activity import ThreadedActivity\n",
    "from scxml4py.event import Event"
   ]
  },
  {
   "cell_type": "markdown",
   "metadata": {},
   "source": [
    "## Declare SCXML Listeners and do actions"
   ]
  },
  {
   "cell_type": "code",
   "execution_count": 9,
   "metadata": {},
   "outputs": [],
   "source": [
    "\n",
    "# Installed as status listener, engine looks for \"ActionStatusListener\" action\n",
    "class ActionStatusListener(Action):\n",
    "    # implemented by the developer, stub can be generated\n",
    "    def __init__(self, theData):\n",
    "        Action.__init__(self, \"ActionStatusListener\", None, theData)\n",
    "    \n",
    "    def execute(self, status):\n",
    "        logging.getLogger(\"scxml4py\").info(\">>>>ActionStatusListener::nb Status: <\" + scxml4py.helper.formatStatus(status) + \">\")\n",
    "\n",
    "class ActionEventListener(Action):\n",
    "    # implemented by the developer, stub can be generated\n",
    "    def __init__(self, theData):\n",
    "        Action.__init__(self, \"ActionEventListener\", None, theData)\n",
    "    \n",
    "    def execute(self, event):\n",
    "        logging.getLogger(\"scxml4py\").info(\">>>>ActionEventListener::nb Event: <\" + \">\")\n",
    "        print (event.getStatus)\n",
    "\n",
    "# Do Action that gets invoked when entering state, name must must do action in v2 model\n",
    "class ActivityOnline(ThreadedActivity):\n",
    "    # implemented by the developer, stub can be generated\n",
    "    def __init__(self, theEventQueue, theData):\n",
    "        ThreadedActivity.__init__(self, \"ActivityOnline\", theEventQueue, theData)\n",
    "\n",
    "    def run(self):\n",
    "        counter = 0\n",
    "        while self.isRunning() == True:\n",
    "            logging.getLogger(\"scxml4py\").info(\"Activity <\" + self.getId() + f\"> is running...{counter}\")\n",
    "            time.sleep(2)\n",
    "            counter += 1\n",
    "            if counter == 5:\n",
    "                self.sendInternalEvent(Event(\"GoOffline\"))\n",
    "                self.setRunning(False)\n",
    "                break\n",
    "            \n",
    "# Data Object, can be generated from attributes of owning part that exhibits behavior\n",
    "class Data(object):\n",
    "    # implemented by the developer\n",
    "    # data shared between actions and activities\n",
    "    def __init__(self):\n",
    "        self.mSharedInfo = None\n",
    "    \n",
    "    def getSharedInfo(self):\n",
    "        # requires mutex\n",
    "        return self.mSharedInfo\n",
    "    \n",
    "    def setSharedInfo(self, sharedInfo):\n",
    "        # requires mutex\n",
    "        self.mSharedInfo = sharedInfo"
   ]
  },
  {
   "cell_type": "markdown",
   "metadata": {},
   "source": [
    "## Run the Simulation"
   ]
  },
  {
   "cell_type": "code",
   "execution_count": 10,
   "metadata": {},
   "outputs": [
    {
     "name": "stderr",
     "output_type": "stream",
     "text": [
      "2025-08-14 16:02:27,495 - INFO - MainThread - application - __init__ - _Application::Loading SCXML model\n",
      "2025-08-14 16:02:27,496 - DEBUG - MainThread - reader - parseScxml - Version: 1.0\n",
      "2025-08-14 16:02:27,496 - DEBUG - MainThread - reader - parseScxml - Optional name attribute not available.\n",
      "2025-08-14 16:02:27,497 - DEBUG - MainThread - reader - parseStates - Found new state: OFF\n",
      "2025-08-14 16:02:27,497 - DEBUG - MainThread - reader - parseStates - Found new state: ONLINE\n",
      "2025-08-14 16:02:27,497 - DEBUG - MainThread - reader - parseScxmlInitialTransition - Found initial transition to state: OFF\n",
      "2025-08-14 16:02:27,498 - DEBUG - MainThread - reader - parseTransitions - Found new transition to state: ONLINE\n",
      "2025-08-14 16:02:27,498 - DEBUG - MainThread - reader - parseTransitions - Found new transition to state: OFF\n",
      "2025-08-14 16:02:27,500 - DEBUG - MainThread - reader - parseInvokes - Found activity ActivityOnline for state ONLINE\n",
      "2025-08-14 16:02:27,500 - DEBUG - MainThread - application - __init__ - _Application::Loaded SCXML model: StateMachine <modelName>\n",
      "\n",
      " Initial Transitions: \n",
      "  FromState <> ToState <OFF>  Guards <> Event <> Actions <>\n",
      "\n",
      " Sub-states: \n",
      "\n",
      "  <OFF>\n",
      "  AbsId: <OFF>\n",
      "  Type: <StateType.ATOMIC>\n",
      "  Parent: <>\n",
      "  OnEntry: <>\n",
      "  OnExit: <>\n",
      "  Activities: <>\n",
      "  IsInitial: <True>\n",
      "  IsFinal: <False>\n",
      "  Initial Transitions:\n",
      "  Transitions:\n",
      "   FromState <OFF> ToState <ONLINE>  Guards <> Event <GoOnline> Actions <>\n",
      "  Sub-states:\n",
      "\n",
      "  <ONLINE>\n",
      "  AbsId: <ONLINE>\n",
      "  Type: <StateType.ATOMIC>\n",
      "  Parent: <>\n",
      "  OnEntry: <>\n",
      "  OnExit: <>\n",
      "  Activities: <ActivityOnline>\n",
      "  IsInitial: <False>\n",
      "  IsFinal: <False>\n",
      "  Initial Transitions:\n",
      "  Transitions:\n",
      "   FromState <ONLINE> ToState <OFF>  Guards <> Event <GoOffline> Actions <>\n",
      "  Sub-states:\n",
      "\n",
      " Parallel-states: \n",
      "\n",
      "2025-08-14 16:02:27,500 - INFO - MainThread - application - __init__ - _Application::Status: <>\n",
      "2025-08-14 16:02:27,501 - INFO - Thread-10 - application - run - _Application::Starting execution of <modelName>\n",
      "2025-08-14 16:02:27,503 - DEBUG - Thread-10 - executor - start - Starting execution of <modelName>\n",
      "2025-08-14 16:02:27,503 - DEBUG - Thread-10 - application - notify - >>>>>>>>>>>>>>>>>>>>>>>>>>>userActionStatus found\n",
      "2025-08-14 16:02:27,504 - INFO - Thread-10 - 4202266828 - execute - >>>>ActionStatusListener::nb Status: <OFF>\n",
      "2025-08-14 16:02:27,504 - INFO - Thread-10 - application - notify - >>>>_ActionStatus::notify Status: <OFF>\n",
      "2025-08-14 16:02:27,505 - DEBUG - Thread-10 - executor - enterStates - Entering state <OFF>\n",
      "2025-08-14 16:02:27,505 - DEBUG - Thread-10 - executor - selectEventlessTransitions - Selected event-less transitions:\n",
      "\n",
      "2025-08-14 16:02:27,505 - DEBUG - Thread-10 - application - notify - >>>>>>>>>>>>>>>>>>>>>>>>>>>userActionStatus found\n",
      "2025-08-14 16:02:27,506 - INFO - Thread-10 - 4202266828 - execute - >>>>ActionStatusListener::nb Status: <OFF>\n",
      "2025-08-14 16:02:27,506 - INFO - Thread-10 - application - notify - >>>>_ActionStatus::notify Status: <OFF>\n",
      "2025-08-14 16:02:27,506 - INFO - Thread-10 - application - run - _Application::Status: <OFF>\n",
      "2025-08-14 16:02:27,507 - DEBUG - Thread-10 - application - run - _Application::Application received event = <GoOnline>\n",
      "2025-08-14 16:02:27,507 - DEBUG - Thread-10 - executor - processEvent - Adding event <GoOnline> to the external queue\n",
      "2025-08-14 16:02:27,508 - DEBUG - Thread-10 - executor - processEvents - Processing external event <GoOnline>\n",
      "2025-08-14 16:02:27,508 - DEBUG - Thread-10 - executor - selectTransitions - Selected transitions on event <GoOnline>:\n",
      "FromState <OFF> ToState <ONLINE>  Guards <> Event <GoOnline> Actions <>\n",
      "\n",
      "2025-08-14 16:02:27,508 - DEBUG - Thread-10 - executor - exitStates - Exiting state <OFF> (StateType.ATOMIC)\n",
      "2025-08-14 16:02:27,509 - DEBUG - Thread-10 - application - notify - >>>>>>>>>>>>>>>>>>>>>>>>>>>userActionStatus found\n",
      "2025-08-14 16:02:27,509 - INFO - Thread-10 - 4202266828 - execute - >>>>ActionStatusListener::nb Status: <ONLINE>\n",
      "2025-08-14 16:02:27,509 - INFO - Thread-10 - application - notify - >>>>_ActionStatus::notify Status: <ONLINE>\n",
      "2025-08-14 16:02:27,510 - DEBUG - Thread-10 - executor - enterStates - Entering state <ONLINE>\n",
      "2025-08-14 16:02:27,510 - DEBUG - Thread-10 - executor - selectEventlessTransitions - Selected event-less transitions:\n",
      "\n",
      "2025-08-14 16:02:27,510 - DEBUG - Thread-10 - application - notify - >>>>>>>>>>>>>>>>>>>>>>>>>>>userActionEvent found\n",
      "2025-08-14 16:02:27,511 - INFO - Thread-10 - 4202266828 - execute - >>>>ActionEventListener::nb Event: <>\n",
      "2025-08-14 16:02:27,512 - INFO - Thread-10 - application - notify - >>>>_EventListener::notify EventListener: <>\n",
      "2025-08-14 16:02:27,512 - DEBUG - Thread-10 - application - notify - EventStatus.PROCESSED\n",
      "2025-08-14 16:02:27,513 - DEBUG - Thread-10 - activity - start - Starting activity <ActivityOnline>\n",
      "2025-08-14 16:02:27,514 - INFO - Thread-11 (run) - 4202266828 - run - Activity <ActivityOnline> is running...0\n",
      "2025-08-14 16:02:27,515 - INFO - Thread-10 - state - startActivities - Activity: ActivityOnline started.\n"
     ]
    },
    {
     "name": "stdout",
     "output_type": "stream",
     "text": [
      ">>>>>>ONLINE\n",
      "<bound method Event.getStatus of <scxml4py.event.Event object at 0x00000223AF763B10>>\n"
     ]
    },
    {
     "name": "stderr",
     "output_type": "stream",
     "text": [
      "2025-08-14 16:02:29,516 - INFO - Thread-11 (run) - 4202266828 - run - Activity <ActivityOnline> is running...1\n",
      "2025-08-14 16:02:31,519 - INFO - Thread-11 (run) - 4202266828 - run - Activity <ActivityOnline> is running...2\n",
      "2025-08-14 16:02:33,521 - INFO - Thread-11 (run) - 4202266828 - run - Activity <ActivityOnline> is running...3\n",
      "2025-08-14 16:02:35,522 - INFO - Thread-11 (run) - 4202266828 - run - Activity <ActivityOnline> is running...4\n",
      "2025-08-14 16:02:37,512 - DEBUG - Thread-10 - application - run - _Application::Application received event = <GoOffline>\n",
      "2025-08-14 16:02:37,513 - DEBUG - Thread-10 - executor - processEvent - Adding event <GoOffline> to the external queue\n",
      "2025-08-14 16:02:37,513 - DEBUG - Thread-10 - executor - processEvents - Processing external event <GoOffline>\n",
      "2025-08-14 16:02:37,514 - DEBUG - Thread-10 - executor - selectTransitions - Selected transitions on event <GoOffline>:\n",
      "FromState <ONLINE> ToState <OFF>  Guards <> Event <GoOffline> Actions <>\n",
      "\n",
      "2025-08-14 16:02:37,514 - DEBUG - Thread-10 - executor - exitStates - Exiting state <ONLINE> (StateType.ATOMIC)\n",
      "2025-08-14 16:02:37,515 - DEBUG - Thread-10 - activity - stop - Stopping activity <ActivityOnline>\n",
      "2025-08-14 16:02:37,525 - DEBUG - Thread-11 (run) - activity - sendInternalEvent - Activity <ActivityOnline>: Triggering internal event <GoOffline>\n",
      "2025-08-14 16:02:37,527 - INFO - Thread-10 - state - cancelActivities - Activity: ActivityOnline stopped.\n",
      "2025-08-14 16:02:37,527 - DEBUG - Thread-10 - application - notify - >>>>>>>>>>>>>>>>>>>>>>>>>>>userActionStatus found\n",
      "2025-08-14 16:02:37,528 - INFO - Thread-10 - 4202266828 - execute - >>>>ActionStatusListener::nb Status: <OFF>\n",
      "2025-08-14 16:02:37,528 - INFO - Thread-10 - application - notify - >>>>_ActionStatus::notify Status: <OFF>\n",
      "2025-08-14 16:02:37,528 - DEBUG - Thread-10 - executor - enterStates - Entering state <OFF>\n",
      "2025-08-14 16:02:37,529 - DEBUG - Thread-10 - executor - selectEventlessTransitions - Selected event-less transitions:\n",
      "\n",
      "2025-08-14 16:02:37,529 - DEBUG - Thread-10 - application - notify - >>>>>>>>>>>>>>>>>>>>>>>>>>>userActionEvent found\n",
      "2025-08-14 16:02:37,530 - INFO - Thread-10 - 4202266828 - execute - >>>>ActionEventListener::nb Event: <>\n",
      "2025-08-14 16:02:37,530 - INFO - Thread-10 - application - notify - >>>>_EventListener::notify EventListener: <>\n",
      "2025-08-14 16:02:37,531 - DEBUG - Thread-10 - application - notify - EventStatus.PROCESSED\n",
      "2025-08-14 16:02:37,531 - DEBUG - Thread-10 - application - run - _Application::Application received event = <_EXIT>\n",
      "2025-08-14 16:02:37,532 - DEBUG - Thread-10 - executor - processEvent - Adding event <_EXIT> to the external queue\n",
      "2025-08-14 16:02:37,532 - DEBUG - Thread-10 - executor - processEvents - Processing external event <_EXIT>\n",
      "2025-08-14 16:02:37,532 - DEBUG - Thread-10 - executor - selectTransitions - Selected transitions on event <_EXIT>:\n",
      "\n",
      "2025-08-14 16:02:37,533 - DEBUG - Thread-10 - application - notify - >>>>>>>>>>>>>>>>>>>>>>>>>>>userActionEvent found\n",
      "2025-08-14 16:02:37,533 - INFO - Thread-10 - 4202266828 - execute - >>>>ActionEventListener::nb Event: <>\n",
      "2025-08-14 16:02:37,533 - INFO - Thread-10 - application - notify - >>>>_EventListener::notify EventListener: <>\n",
      "2025-08-14 16:02:37,534 - DEBUG - Thread-10 - application - notify - EventStatus.IGNORED\n",
      "2025-08-14 16:02:37,534 - DEBUG - Thread-10 - application - run - _Application::Application exiting...\n",
      "2025-08-14 16:02:37,534 - INFO - Thread-10 - application - run - _Application::Stopping execution of <modelName>\n",
      "2025-08-14 16:02:37,535 - DEBUG - Thread-10 - executor - stop - Stopping execution of <modelName>\n",
      "2025-08-14 16:02:37,535 - INFO - Thread-10 - application - run - _Application::Status: <>\n"
     ]
    },
    {
     "name": "stdout",
     "output_type": "stream",
     "text": [
      ">>>>>>ONLINE\n",
      "<bound method Event.getStatus of <scxml4py.event.Event object at 0x00000223AF5F7530>>\n",
      "<bound method Event.getStatus of <scxml4py.event.Event object at 0x00000223AF75E950>>\n"
     ]
    }
   ],
   "source": [
    "logging.basicConfig(format='%(asctime)s - %(levelname)s - %(threadName)s - %(module)s - %(funcName)s - %(message)s', level=logging.DEBUG)\n",
    "simple_sm_data = Data()\n",
    "simple_sm = Application(simpleSM_string, actions = [ActionStatusListener,ActionEventListener], activities = [ActivityOnline], data = simple_sm_data)\n",
    "simple_sm.start()\n",
    "simple_sm.send_signal(\"GoOnline\", True)\n",
    "status = simple_sm.get_current_status()\n",
    "print (\">>>>>>\" + status)\n",
    "time.sleep(10)\n",
    "simple_sm.send_signal(\"GoOffline\", True)\n",
    "status = simple_sm.get_current_status()\n",
    "print (\">>>>>>\" + status)\n",
    "simple_sm.terminate()"
   ]
  },
  {
   "cell_type": "code",
   "execution_count": null,
   "metadata": {},
   "outputs": [],
   "source": []
  }
 ],
 "metadata": {
  "kernelspec": {
   "display_name": ".venv (3.13.2)",
   "language": "python",
   "name": "python3"
  },
  "language_info": {
   "codemirror_mode": {
    "name": "ipython",
    "version": 3
   },
   "file_extension": ".py",
   "mimetype": "text/x-python",
   "name": "python",
   "nbconvert_exporter": "python",
   "pygments_lexer": "ipython3",
   "version": "3.13.2"
  },
  "widgets": {
   "application/vnd.jupyter.widget-state+json": {
    "state": {
     "0249fb6af3404a82b7c481efe23a83b4": {
      "model_module": "@jupyter-widgets/output",
      "model_module_version": "1.0.0",
      "model_name": "OutputModel",
      "state": {
       "layout": "IPY_MODEL_27a7f44597ad422ba5df04c47c51d549",
       "outputs": [
        {
         "data": {
          "image/png": "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",
          "text/plain": "<IPython.core.display.Image object>"
         },
         "metadata": {},
         "output_type": "display_data"
        }
       ]
      }
     },
     "27a7f44597ad422ba5df04c47c51d549": {
      "model_module": "@jupyter-widgets/base",
      "model_module_version": "1.2.0",
      "model_name": "LayoutModel",
      "state": {}
     },
     "317518ab895c4aa181ac6f4f4a6b2b8c": {
      "model_module": "@jupyter-widgets/controls",
      "model_module_version": "1.5.0",
      "model_name": "VBoxModel",
      "state": {
       "_dom_classes": [
        "widget-interact"
       ],
       "children": [
        "IPY_MODEL_4c1648f0bd104f38a3732b172fa36395",
        "IPY_MODEL_0249fb6af3404a82b7c481efe23a83b4"
       ],
       "layout": "IPY_MODEL_9720e247378b4c9286b5628cae59fcd2"
      }
     },
     "3a35fb1c0a5745179696ec808d8e85a7": {
      "model_module": "@jupyter-widgets/base",
      "model_module_version": "1.2.0",
      "model_name": "LayoutModel",
      "state": {}
     },
     "45c01095b3d84501a98fef03b24329ee": {
      "model_module": "@jupyter-widgets/base",
      "model_module_version": "1.2.0",
      "model_name": "LayoutModel",
      "state": {}
     },
     "4c1648f0bd104f38a3732b172fa36395": {
      "model_module": "@jupyter-widgets/controls",
      "model_module_version": "1.5.0",
      "model_name": "IntSliderModel",
      "state": {
       "description": "x",
       "layout": "IPY_MODEL_3a35fb1c0a5745179696ec808d8e85a7",
       "max": 20,
       "min": 1,
       "style": "IPY_MODEL_7edc4ec6880c48808087db46e25f06af",
       "value": 3
      }
     },
     "7edc4ec6880c48808087db46e25f06af": {
      "model_module": "@jupyter-widgets/controls",
      "model_module_version": "1.5.0",
      "model_name": "SliderStyleModel",
      "state": {
       "description_width": ""
      }
     },
     "961df76f4dd74390bfc37fc02f0f8dad": {
      "model_module": "@jupyter-widgets/controls",
      "model_module_version": "1.5.0",
      "model_name": "SliderStyleModel",
      "state": {
       "description_width": ""
      }
     },
     "9720e247378b4c9286b5628cae59fcd2": {
      "model_module": "@jupyter-widgets/base",
      "model_module_version": "1.2.0",
      "model_name": "LayoutModel",
      "state": {}
     },
     "e2abcdffd95948ab8268a359c264280f": {
      "model_module": "@jupyter-widgets/controls",
      "model_module_version": "1.5.0",
      "model_name": "IntSliderModel",
      "state": {
       "layout": "IPY_MODEL_45c01095b3d84501a98fef03b24329ee",
       "max": 10,
       "min": 1,
       "style": "IPY_MODEL_961df76f4dd74390bfc37fc02f0f8dad",
       "value": 8
      }
     }
    },
    "version_major": 2,
    "version_minor": 0
   }
  }
 },
 "nbformat": 4,
 "nbformat_minor": 4
}
